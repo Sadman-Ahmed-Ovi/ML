{
  "nbformat": 4,
  "nbformat_minor": 0,
  "metadata": {
    "colab": {
      "provenance": [],
      "authorship_tag": "ABX9TyN5WAMOYqbVe/8io2kpLULo",
      "include_colab_link": true
    },
    "kernelspec": {
      "name": "python3",
      "display_name": "Python 3"
    },
    "language_info": {
      "name": "python"
    }
  },
  "cells": [
    {
      "cell_type": "markdown",
      "metadata": {
        "id": "view-in-github",
        "colab_type": "text"
      },
      "source": [
        "<a href=\"https://colab.research.google.com/github/Sadman-Ahmed-Ovi/ML/blob/main/Untitled0.ipynb\" target=\"_parent\"><img src=\"https://colab.research.google.com/assets/colab-badge.svg\" alt=\"Open In Colab\"/></a>"
      ]
    },
    {
      "cell_type": "code",
      "execution_count": null,
      "metadata": {
        "colab": {
          "base_uri": "https://localhost:8080/"
        },
        "id": "oBEiNQ43aoDX",
        "outputId": "abbb87a5-c892-4b62-ff89-9429ab66e601"
      },
      "outputs": [
        {
          "output_type": "stream",
          "name": "stdout",
          "text": [
            "2.11.0\n"
          ]
        }
      ],
      "source": [
        "import tensorflow as tf\n",
        "print(tf.__version__)"
      ]
    },
    {
      "cell_type": "code",
      "source": [
        "from wordcloud import WordCloud"
      ],
      "metadata": {
        "id": "zMPzzLiHjbVg"
      },
      "execution_count": null,
      "outputs": []
    },
    {
      "cell_type": "code",
      "source": [],
      "metadata": {
        "id": "zw6aPkFHgLhX"
      },
      "execution_count": null,
      "outputs": []
    },
    {
      "cell_type": "markdown",
      "source": [
        "# New Course\n",
        "## deep learning\n"
      ],
      "metadata": {
        "id": "PxjOcCaObZIz"
      }
    },
    {
      "cell_type": "code",
      "source": [
        "!ls"
      ],
      "metadata": {
        "colab": {
          "base_uri": "https://localhost:8080/"
        },
        "id": "RI0w0h3peW2A",
        "outputId": "fa32bedb-c7e8-49c3-c8b9-d7d57911c682"
      },
      "execution_count": null,
      "outputs": [
        {
          "output_type": "stream",
          "name": "stdout",
          "text": [
            "sample_data\n"
          ]
        }
      ]
    },
    {
      "cell_type": "code",
      "source": [
        "!ls sample_data"
      ],
      "metadata": {
        "colab": {
          "base_uri": "https://localhost:8080/"
        },
        "id": "A5xKtYaDecQw",
        "outputId": "eb09c510-c914-40b4-ec77-c2ce8f3a56a3"
      },
      "execution_count": null,
      "outputs": [
        {
          "output_type": "stream",
          "name": "stdout",
          "text": [
            "anscombe.json\t\t      mnist_test.csv\n",
            "california_housing_test.csv   mnist_train_small.csv\n",
            "california_housing_train.csv  README.md\n"
          ]
        }
      ]
    },
    {
      "cell_type": "code",
      "source": [
        "url='https://archive.ics.uci.edu/ml/machine-learning-databases/auto-mpg/auto-mpg.data'"
      ],
      "metadata": {
        "id": "qUK8YFvBhrgQ"
      },
      "execution_count": null,
      "outputs": []
    },
    {
      "cell_type": "code",
      "source": [
        "tf.keras.utils.get_file('auto-mpg.data',url)"
      ],
      "metadata": {
        "colab": {
          "base_uri": "https://localhost:8080/",
          "height": 70
        },
        "id": "TNTaz5jogOcA",
        "outputId": "b752f82f-9658-47d6-f4a3-a710806bfcba"
      },
      "execution_count": null,
      "outputs": [
        {
          "output_type": "stream",
          "name": "stdout",
          "text": [
            "Downloading data from https://archive.ics.uci.edu/ml/machine-learning-databases/auto-mpg/auto-mpg.data\n",
            "30286/30286 [==============================] - 0s 0us/step\n"
          ]
        },
        {
          "output_type": "execute_result",
          "data": {
            "text/plain": [
              "'/root/.keras/datasets/auto-mpg.data'"
            ],
            "application/vnd.google.colaboratory.intrinsic+json": {
              "type": "string"
            }
          },
          "metadata": {},
          "execution_count": 6
        }
      ]
    },
    {
      "cell_type": "code",
      "source": [
        "!ls"
      ],
      "metadata": {
        "colab": {
          "base_uri": "https://localhost:8080/"
        },
        "id": "yUYtcnjwiaya",
        "outputId": "973cb0a2-db02-4d81-a6b9-1c18f61c29ee"
      },
      "execution_count": null,
      "outputs": [
        {
          "output_type": "stream",
          "name": "stdout",
          "text": [
            "sample_data\n"
          ]
        }
      ]
    },
    {
      "cell_type": "code",
      "source": [
        "!head /root/.keras/datasets/auto-mpg.data"
      ],
      "metadata": {
        "colab": {
          "base_uri": "https://localhost:8080/"
        },
        "id": "Prm3d17_iqMf",
        "outputId": "f2ebb802-2997-44d6-9fc7-07b7f9067f50"
      },
      "execution_count": null,
      "outputs": [
        {
          "output_type": "stream",
          "name": "stdout",
          "text": [
            "18.0   8   307.0      130.0      3504.      12.0   70  1\t\"chevrolet chevelle malibu\"\n",
            "15.0   8   350.0      165.0      3693.      11.5   70  1\t\"buick skylark 320\"\n",
            "18.0   8   318.0      150.0      3436.      11.0   70  1\t\"plymouth satellite\"\n",
            "16.0   8   304.0      150.0      3433.      12.0   70  1\t\"amc rebel sst\"\n",
            "17.0   8   302.0      140.0      3449.      10.5   70  1\t\"ford torino\"\n",
            "15.0   8   429.0      198.0      4341.      10.0   70  1\t\"ford galaxie 500\"\n",
            "14.0   8   454.0      220.0      4354.       9.0   70  1\t\"chevrolet impala\"\n",
            "14.0   8   440.0      215.0      4312.       8.5   70  1\t\"plymouth fury iii\"\n",
            "14.0   8   455.0      225.0      4425.      10.0   70  1\t\"pontiac catalina\"\n",
            "15.0   8   390.0      190.0      3850.       8.5   70  1\t\"amc ambassador dpl\"\n"
          ]
        }
      ]
    },
    {
      "cell_type": "code",
      "source": [
        "from google.colab import files\n",
        "uploaded=files.upload()"
      ],
      "metadata": {
        "colab": {
          "base_uri": "https://localhost:8080/",
          "height": 73
        },
        "id": "viv5PeezjGzL",
        "outputId": "1cbd5aad-326a-468f-9737-39d4d0daeb76"
      },
      "execution_count": null,
      "outputs": [
        {
          "output_type": "display_data",
          "data": {
            "text/plain": [
              "<IPython.core.display.HTML object>"
            ],
            "text/html": [
              "\n",
              "     <input type=\"file\" id=\"files-bd25e66c-4a4c-4ab7-86f9-d104c94412c4\" name=\"files[]\" multiple disabled\n",
              "        style=\"border:none\" />\n",
              "     <output id=\"result-bd25e66c-4a4c-4ab7-86f9-d104c94412c4\">\n",
              "      Upload widget is only available when the cell has been executed in the\n",
              "      current browser session. Please rerun this cell to enable.\n",
              "      </output>\n",
              "      <script>// Copyright 2017 Google LLC\n",
              "//\n",
              "// Licensed under the Apache License, Version 2.0 (the \"License\");\n",
              "// you may not use this file except in compliance with the License.\n",
              "// You may obtain a copy of the License at\n",
              "//\n",
              "//      http://www.apache.org/licenses/LICENSE-2.0\n",
              "//\n",
              "// Unless required by applicable law or agreed to in writing, software\n",
              "// distributed under the License is distributed on an \"AS IS\" BASIS,\n",
              "// WITHOUT WARRANTIES OR CONDITIONS OF ANY KIND, either express or implied.\n",
              "// See the License for the specific language governing permissions and\n",
              "// limitations under the License.\n",
              "\n",
              "/**\n",
              " * @fileoverview Helpers for google.colab Python module.\n",
              " */\n",
              "(function(scope) {\n",
              "function span(text, styleAttributes = {}) {\n",
              "  const element = document.createElement('span');\n",
              "  element.textContent = text;\n",
              "  for (const key of Object.keys(styleAttributes)) {\n",
              "    element.style[key] = styleAttributes[key];\n",
              "  }\n",
              "  return element;\n",
              "}\n",
              "\n",
              "// Max number of bytes which will be uploaded at a time.\n",
              "const MAX_PAYLOAD_SIZE = 100 * 1024;\n",
              "\n",
              "function _uploadFiles(inputId, outputId) {\n",
              "  const steps = uploadFilesStep(inputId, outputId);\n",
              "  const outputElement = document.getElementById(outputId);\n",
              "  // Cache steps on the outputElement to make it available for the next call\n",
              "  // to uploadFilesContinue from Python.\n",
              "  outputElement.steps = steps;\n",
              "\n",
              "  return _uploadFilesContinue(outputId);\n",
              "}\n",
              "\n",
              "// This is roughly an async generator (not supported in the browser yet),\n",
              "// where there are multiple asynchronous steps and the Python side is going\n",
              "// to poll for completion of each step.\n",
              "// This uses a Promise to block the python side on completion of each step,\n",
              "// then passes the result of the previous step as the input to the next step.\n",
              "function _uploadFilesContinue(outputId) {\n",
              "  const outputElement = document.getElementById(outputId);\n",
              "  const steps = outputElement.steps;\n",
              "\n",
              "  const next = steps.next(outputElement.lastPromiseValue);\n",
              "  return Promise.resolve(next.value.promise).then((value) => {\n",
              "    // Cache the last promise value to make it available to the next\n",
              "    // step of the generator.\n",
              "    outputElement.lastPromiseValue = value;\n",
              "    return next.value.response;\n",
              "  });\n",
              "}\n",
              "\n",
              "/**\n",
              " * Generator function which is called between each async step of the upload\n",
              " * process.\n",
              " * @param {string} inputId Element ID of the input file picker element.\n",
              " * @param {string} outputId Element ID of the output display.\n",
              " * @return {!Iterable<!Object>} Iterable of next steps.\n",
              " */\n",
              "function* uploadFilesStep(inputId, outputId) {\n",
              "  const inputElement = document.getElementById(inputId);\n",
              "  inputElement.disabled = false;\n",
              "\n",
              "  const outputElement = document.getElementById(outputId);\n",
              "  outputElement.innerHTML = '';\n",
              "\n",
              "  const pickedPromise = new Promise((resolve) => {\n",
              "    inputElement.addEventListener('change', (e) => {\n",
              "      resolve(e.target.files);\n",
              "    });\n",
              "  });\n",
              "\n",
              "  const cancel = document.createElement('button');\n",
              "  inputElement.parentElement.appendChild(cancel);\n",
              "  cancel.textContent = 'Cancel upload';\n",
              "  const cancelPromise = new Promise((resolve) => {\n",
              "    cancel.onclick = () => {\n",
              "      resolve(null);\n",
              "    };\n",
              "  });\n",
              "\n",
              "  // Wait for the user to pick the files.\n",
              "  const files = yield {\n",
              "    promise: Promise.race([pickedPromise, cancelPromise]),\n",
              "    response: {\n",
              "      action: 'starting',\n",
              "    }\n",
              "  };\n",
              "\n",
              "  cancel.remove();\n",
              "\n",
              "  // Disable the input element since further picks are not allowed.\n",
              "  inputElement.disabled = true;\n",
              "\n",
              "  if (!files) {\n",
              "    return {\n",
              "      response: {\n",
              "        action: 'complete',\n",
              "      }\n",
              "    };\n",
              "  }\n",
              "\n",
              "  for (const file of files) {\n",
              "    const li = document.createElement('li');\n",
              "    li.append(span(file.name, {fontWeight: 'bold'}));\n",
              "    li.append(span(\n",
              "        `(${file.type || 'n/a'}) - ${file.size} bytes, ` +\n",
              "        `last modified: ${\n",
              "            file.lastModifiedDate ? file.lastModifiedDate.toLocaleDateString() :\n",
              "                                    'n/a'} - `));\n",
              "    const percent = span('0% done');\n",
              "    li.appendChild(percent);\n",
              "\n",
              "    outputElement.appendChild(li);\n",
              "\n",
              "    const fileDataPromise = new Promise((resolve) => {\n",
              "      const reader = new FileReader();\n",
              "      reader.onload = (e) => {\n",
              "        resolve(e.target.result);\n",
              "      };\n",
              "      reader.readAsArrayBuffer(file);\n",
              "    });\n",
              "    // Wait for the data to be ready.\n",
              "    let fileData = yield {\n",
              "      promise: fileDataPromise,\n",
              "      response: {\n",
              "        action: 'continue',\n",
              "      }\n",
              "    };\n",
              "\n",
              "    // Use a chunked sending to avoid message size limits. See b/62115660.\n",
              "    let position = 0;\n",
              "    do {\n",
              "      const length = Math.min(fileData.byteLength - position, MAX_PAYLOAD_SIZE);\n",
              "      const chunk = new Uint8Array(fileData, position, length);\n",
              "      position += length;\n",
              "\n",
              "      const base64 = btoa(String.fromCharCode.apply(null, chunk));\n",
              "      yield {\n",
              "        response: {\n",
              "          action: 'append',\n",
              "          file: file.name,\n",
              "          data: base64,\n",
              "        },\n",
              "      };\n",
              "\n",
              "      let percentDone = fileData.byteLength === 0 ?\n",
              "          100 :\n",
              "          Math.round((position / fileData.byteLength) * 100);\n",
              "      percent.textContent = `${percentDone}% done`;\n",
              "\n",
              "    } while (position < fileData.byteLength);\n",
              "  }\n",
              "\n",
              "  // All done.\n",
              "  yield {\n",
              "    response: {\n",
              "      action: 'complete',\n",
              "    }\n",
              "  };\n",
              "}\n",
              "\n",
              "scope.google = scope.google || {};\n",
              "scope.google.colab = scope.google.colab || {};\n",
              "scope.google.colab._files = {\n",
              "  _uploadFiles,\n",
              "  _uploadFilesContinue,\n",
              "};\n",
              "})(self);\n",
              "</script> "
            ]
          },
          "metadata": {}
        },
        {
          "output_type": "stream",
          "name": "stdout",
          "text": [
            "Saving Advertising.csv to Advertising.csv\n"
          ]
        }
      ]
    },
    {
      "cell_type": "code",
      "source": [
        "uploaded"
      ],
      "metadata": {
        "colab": {
          "base_uri": "https://localhost:8080/"
        },
        "id": "kTbTCkfMjmF8",
        "outputId": "bc5c6b16-8f6b-4e3e-f351-30835597db5b"
      },
      "execution_count": null,
      "outputs": [
        {
          "output_type": "execute_result",
          "data": {
            "text/plain": [
              "{'Advertising.csv': b'TV,radio,newspaper,sales\\r\\n230.1,37.8,69.2,22.1\\r\\n44.5,39.3,45.1,10.4\\r\\n17.2,45.9,69.3,9.3\\r\\n151.5,41.3,58.5,18.5\\r\\n180.8,10.8,58.4,12.9\\r\\n8.7,48.9,75.0,7.2\\r\\n57.5,32.8,23.5,11.8\\r\\n120.2,19.6,11.6,13.2\\r\\n8.6,2.1,1.0,4.8\\r\\n199.8,2.6,21.2,10.6\\r\\n66.1,5.8,24.2,8.6\\r\\n214.7,24.0,4.0,17.4\\r\\n23.8,35.1,65.9,9.2\\r\\n97.5,7.6,7.2,9.7\\r\\n204.1,32.9,46.0,19.0\\r\\n195.4,47.7,52.9,22.4\\r\\n67.8,36.6,114.0,12.5\\r\\n281.4,39.6,55.8,24.4\\r\\n69.2,20.5,18.3,11.3\\r\\n147.3,23.9,19.1,14.6\\r\\n218.4,27.7,53.4,18.0\\r\\n237.4,5.1,23.5,12.5\\r\\n13.2,15.9,49.6,5.6\\r\\n228.3,16.9,26.2,15.5\\r\\n62.3,12.6,18.3,9.7\\r\\n262.9,3.5,19.5,12.0\\r\\n142.9,29.3,12.6,15.0\\r\\n240.1,16.7,22.9,15.9\\r\\n248.8,27.1,22.9,18.9\\r\\n70.6,16.0,40.8,10.5\\r\\n292.9,28.3,43.2,21.4\\r\\n112.9,17.4,38.6,11.9\\r\\n97.2,1.5,30.0,9.6\\r\\n265.6,20.0,0.3,17.4\\r\\n95.7,1.4,7.4,9.5\\r\\n290.7,4.1,8.5,12.8\\r\\n266.9,43.8,5.0,25.4\\r\\n74.7,49.4,45.7,14.7\\r\\n43.1,26.7,35.1,10.1\\r\\n228.0,37.7,32.0,21.5\\r\\n202.5,22.3,31.6,16.6\\r\\n177.0,33.4,38.7,17.1\\r\\n293.6,27.7,1.8,20.7\\r\\n206.9,8.4,26.4,12.9\\r\\n25.1,25.7,43.3,8.5\\r\\n175.1,22.5,31.5,14.9\\r\\n89.7,9.9,35.7,10.6\\r\\n239.9,41.5,18.5,23.2\\r\\n227.2,15.8,49.9,14.8\\r\\n66.9,11.7,36.8,9.7\\r\\n199.8,3.1,34.6,11.4\\r\\n100.4,9.6,3.6,10.7\\r\\n216.4,41.7,39.6,22.6\\r\\n182.6,46.2,58.7,21.2\\r\\n262.7,28.8,15.9,20.2\\r\\n198.9,49.4,60.0,23.7\\r\\n7.3,28.1,41.4,5.5\\r\\n136.2,19.2,16.6,13.2\\r\\n210.8,49.6,37.7,23.8\\r\\n210.7,29.5,9.3,18.4\\r\\n53.5,2.0,21.4,8.1\\r\\n261.3,42.7,54.7,24.2\\r\\n239.3,15.5,27.3,15.7\\r\\n102.7,29.6,8.4,14.0\\r\\n131.1,42.8,28.9,18.0\\r\\n69.0,9.3,0.9,9.3\\r\\n31.5,24.6,2.2,9.5\\r\\n139.3,14.5,10.2,13.4\\r\\n237.4,27.5,11.0,18.9\\r\\n216.8,43.9,27.2,22.3\\r\\n199.1,30.6,38.7,18.3\\r\\n109.8,14.3,31.7,12.4\\r\\n26.8,33.0,19.3,8.8\\r\\n129.4,5.7,31.3,11.0\\r\\n213.4,24.6,13.1,17.0\\r\\n16.9,43.7,89.4,8.7\\r\\n27.5,1.6,20.7,6.9\\r\\n120.5,28.5,14.2,14.2\\r\\n5.4,29.9,9.4,5.3\\r\\n116.0,7.7,23.1,11.0\\r\\n76.4,26.7,22.3,11.8\\r\\n239.8,4.1,36.9,12.3\\r\\n75.3,20.3,32.5,11.3\\r\\n68.4,44.5,35.6,13.6\\r\\n213.5,43.0,33.8,21.7\\r\\n193.2,18.4,65.7,15.2\\r\\n76.3,27.5,16.0,12.0\\r\\n110.7,40.6,63.2,16.0\\r\\n88.3,25.5,73.4,12.9\\r\\n109.8,47.8,51.4,16.7\\r\\n134.3,4.9,9.3,11.2\\r\\n28.6,1.5,33.0,7.3\\r\\n217.7,33.5,59.0,19.4\\r\\n250.9,36.5,72.3,22.2\\r\\n107.4,14.0,10.9,11.5\\r\\n163.3,31.6,52.9,16.9\\r\\n197.6,3.5,5.9,11.7\\r\\n184.9,21.0,22.0,15.5\\r\\n289.7,42.3,51.2,25.4\\r\\n135.2,41.7,45.9,17.2\\r\\n222.4,4.3,49.8,11.7\\r\\n296.4,36.3,100.9,23.8\\r\\n280.2,10.1,21.4,14.8\\r\\n187.9,17.2,17.9,14.7\\r\\n238.2,34.3,5.3,20.7\\r\\n137.9,46.4,59.0,19.2\\r\\n25.0,11.0,29.7,7.2\\r\\n90.4,0.3,23.2,8.7\\r\\n13.1,0.4,25.6,5.3\\r\\n255.4,26.9,5.5,19.8\\r\\n225.8,8.2,56.5,13.4\\r\\n241.7,38.0,23.2,21.8\\r\\n175.7,15.4,2.4,14.1\\r\\n209.6,20.6,10.7,15.9\\r\\n78.2,46.8,34.5,14.6\\r\\n75.1,35.0,52.7,12.6\\r\\n139.2,14.3,25.6,12.2\\r\\n76.4,0.8,14.8,9.4\\r\\n125.7,36.9,79.2,15.9\\r\\n19.4,16.0,22.3,6.6\\r\\n141.3,26.8,46.2,15.5\\r\\n18.8,21.7,50.4,7.0\\r\\n224.0,2.4,15.6,11.6\\r\\n123.1,34.6,12.4,15.2\\r\\n229.5,32.3,74.2,19.7\\r\\n87.2,11.8,25.9,10.6\\r\\n7.8,38.9,50.6,6.6\\r\\n80.2,0.0,9.2,8.8\\r\\n220.3,49.0,3.2,24.7\\r\\n59.6,12.0,43.1,9.7\\r\\n0.7,39.6,8.7,1.6\\r\\n265.2,2.9,43.0,12.7\\r\\n8.4,27.2,2.1,5.7\\r\\n219.8,33.5,45.1,19.6\\r\\n36.9,38.6,65.6,10.8\\r\\n48.3,47.0,8.5,11.6\\r\\n25.6,39.0,9.3,9.5\\r\\n273.7,28.9,59.7,20.8\\r\\n43.0,25.9,20.5,9.6\\r\\n184.9,43.9,1.7,20.7\\r\\n73.4,17.0,12.9,10.9\\r\\n193.7,35.4,75.6,19.2\\r\\n220.5,33.2,37.9,20.1\\r\\n104.6,5.7,34.4,10.4\\r\\n96.2,14.8,38.9,11.4\\r\\n140.3,1.9,9.0,10.3\\r\\n240.1,7.3,8.7,13.2\\r\\n243.2,49.0,44.3,25.4\\r\\n38.0,40.3,11.9,10.9\\r\\n44.7,25.8,20.6,10.1\\r\\n280.7,13.9,37.0,16.1\\r\\n121.0,8.4,48.7,11.6\\r\\n197.6,23.3,14.2,16.6\\r\\n171.3,39.7,37.7,19.0\\r\\n187.8,21.1,9.5,15.6\\r\\n4.1,11.6,5.7,3.2\\r\\n93.9,43.5,50.5,15.3\\r\\n149.8,1.3,24.3,10.1\\r\\n11.7,36.9,45.2,7.3\\r\\n131.7,18.4,34.6,12.9\\r\\n172.5,18.1,30.7,14.4\\r\\n85.7,35.8,49.3,13.3\\r\\n188.4,18.1,25.6,14.9\\r\\n163.5,36.8,7.4,18.0\\r\\n117.2,14.7,5.4,11.9\\r\\n234.5,3.4,84.8,11.9\\r\\n17.9,37.6,21.6,8.0\\r\\n206.8,5.2,19.4,12.2\\r\\n215.4,23.6,57.6,17.1\\r\\n284.3,10.6,6.4,15.0\\r\\n50.0,11.6,18.4,8.4\\r\\n164.5,20.9,47.4,14.5\\r\\n19.6,20.1,17.0,7.6\\r\\n168.4,7.1,12.8,11.7\\r\\n222.4,3.4,13.1,11.5\\r\\n276.9,48.9,41.8,27.0\\r\\n248.4,30.2,20.3,20.2\\r\\n170.2,7.8,35.2,11.7\\r\\n276.7,2.3,23.7,11.8\\r\\n165.6,10.0,17.6,12.6\\r\\n156.6,2.6,8.3,10.5\\r\\n218.5,5.4,27.4,12.2\\r\\n56.2,5.7,29.7,8.7\\r\\n287.6,43.0,71.8,26.2\\r\\n253.8,21.3,30.0,17.6\\r\\n205.0,45.1,19.6,22.6\\r\\n139.5,2.1,26.6,10.3\\r\\n191.1,28.7,18.2,17.3\\r\\n286.0,13.9,3.7,15.9\\r\\n18.7,12.1,23.4,6.7\\r\\n39.5,41.1,5.8,10.8\\r\\n75.5,10.8,6.0,9.9\\r\\n17.2,4.1,31.6,5.9\\r\\n166.8,42.0,3.6,19.6\\r\\n149.7,35.6,6.0,17.3\\r\\n38.2,3.7,13.8,7.6\\r\\n94.2,4.9,8.1,9.7\\r\\n177.0,9.3,6.4,12.8\\r\\n283.6,42.0,66.2,25.5\\r\\n232.1,8.6,8.7,13.4\\r\\n'}"
            ]
          },
          "metadata": {},
          "execution_count": 10
        }
      ]
    },
    {
      "cell_type": "code",
      "source": [
        "import pandas as pd\n"
      ],
      "metadata": {
        "id": "Xqvzyx4cjwZ9"
      },
      "execution_count": null,
      "outputs": []
    },
    {
      "cell_type": "code",
      "source": [
        "df=pd.read_csv('Advertising.csv')"
      ],
      "metadata": {
        "id": "8AWvXfX_j73x"
      },
      "execution_count": null,
      "outputs": []
    },
    {
      "cell_type": "code",
      "source": [
        "df.head()"
      ],
      "metadata": {
        "colab": {
          "base_uri": "https://localhost:8080/",
          "height": 206
        },
        "id": "dcRO7M9ykG8j",
        "outputId": "84c468c1-1c5f-4392-cb28-8bf21e43759a"
      },
      "execution_count": null,
      "outputs": [
        {
          "output_type": "execute_result",
          "data": {
            "text/plain": [
              "      TV  radio  newspaper  sales\n",
              "0  230.1   37.8       69.2   22.1\n",
              "1   44.5   39.3       45.1   10.4\n",
              "2   17.2   45.9       69.3    9.3\n",
              "3  151.5   41.3       58.5   18.5\n",
              "4  180.8   10.8       58.4   12.9"
            ],
            "text/html": [
              "\n",
              "  <div id=\"df-18697a25-8e90-4d6e-8046-c8578cd44194\">\n",
              "    <div class=\"colab-df-container\">\n",
              "      <div>\n",
              "<style scoped>\n",
              "    .dataframe tbody tr th:only-of-type {\n",
              "        vertical-align: middle;\n",
              "    }\n",
              "\n",
              "    .dataframe tbody tr th {\n",
              "        vertical-align: top;\n",
              "    }\n",
              "\n",
              "    .dataframe thead th {\n",
              "        text-align: right;\n",
              "    }\n",
              "</style>\n",
              "<table border=\"1\" class=\"dataframe\">\n",
              "  <thead>\n",
              "    <tr style=\"text-align: right;\">\n",
              "      <th></th>\n",
              "      <th>TV</th>\n",
              "      <th>radio</th>\n",
              "      <th>newspaper</th>\n",
              "      <th>sales</th>\n",
              "    </tr>\n",
              "  </thead>\n",
              "  <tbody>\n",
              "    <tr>\n",
              "      <th>0</th>\n",
              "      <td>230.1</td>\n",
              "      <td>37.8</td>\n",
              "      <td>69.2</td>\n",
              "      <td>22.1</td>\n",
              "    </tr>\n",
              "    <tr>\n",
              "      <th>1</th>\n",
              "      <td>44.5</td>\n",
              "      <td>39.3</td>\n",
              "      <td>45.1</td>\n",
              "      <td>10.4</td>\n",
              "    </tr>\n",
              "    <tr>\n",
              "      <th>2</th>\n",
              "      <td>17.2</td>\n",
              "      <td>45.9</td>\n",
              "      <td>69.3</td>\n",
              "      <td>9.3</td>\n",
              "    </tr>\n",
              "    <tr>\n",
              "      <th>3</th>\n",
              "      <td>151.5</td>\n",
              "      <td>41.3</td>\n",
              "      <td>58.5</td>\n",
              "      <td>18.5</td>\n",
              "    </tr>\n",
              "    <tr>\n",
              "      <th>4</th>\n",
              "      <td>180.8</td>\n",
              "      <td>10.8</td>\n",
              "      <td>58.4</td>\n",
              "      <td>12.9</td>\n",
              "    </tr>\n",
              "  </tbody>\n",
              "</table>\n",
              "</div>\n",
              "      <button class=\"colab-df-convert\" onclick=\"convertToInteractive('df-18697a25-8e90-4d6e-8046-c8578cd44194')\"\n",
              "              title=\"Convert this dataframe to an interactive table.\"\n",
              "              style=\"display:none;\">\n",
              "        \n",
              "  <svg xmlns=\"http://www.w3.org/2000/svg\" height=\"24px\"viewBox=\"0 0 24 24\"\n",
              "       width=\"24px\">\n",
              "    <path d=\"M0 0h24v24H0V0z\" fill=\"none\"/>\n",
              "    <path d=\"M18.56 5.44l.94 2.06.94-2.06 2.06-.94-2.06-.94-.94-2.06-.94 2.06-2.06.94zm-11 1L8.5 8.5l.94-2.06 2.06-.94-2.06-.94L8.5 2.5l-.94 2.06-2.06.94zm10 10l.94 2.06.94-2.06 2.06-.94-2.06-.94-.94-2.06-.94 2.06-2.06.94z\"/><path d=\"M17.41 7.96l-1.37-1.37c-.4-.4-.92-.59-1.43-.59-.52 0-1.04.2-1.43.59L10.3 9.45l-7.72 7.72c-.78.78-.78 2.05 0 2.83L4 21.41c.39.39.9.59 1.41.59.51 0 1.02-.2 1.41-.59l7.78-7.78 2.81-2.81c.8-.78.8-2.07 0-2.86zM5.41 20L4 18.59l7.72-7.72 1.47 1.35L5.41 20z\"/>\n",
              "  </svg>\n",
              "      </button>\n",
              "      \n",
              "  <style>\n",
              "    .colab-df-container {\n",
              "      display:flex;\n",
              "      flex-wrap:wrap;\n",
              "      gap: 12px;\n",
              "    }\n",
              "\n",
              "    .colab-df-convert {\n",
              "      background-color: #E8F0FE;\n",
              "      border: none;\n",
              "      border-radius: 50%;\n",
              "      cursor: pointer;\n",
              "      display: none;\n",
              "      fill: #1967D2;\n",
              "      height: 32px;\n",
              "      padding: 0 0 0 0;\n",
              "      width: 32px;\n",
              "    }\n",
              "\n",
              "    .colab-df-convert:hover {\n",
              "      background-color: #E2EBFA;\n",
              "      box-shadow: 0px 1px 2px rgba(60, 64, 67, 0.3), 0px 1px 3px 1px rgba(60, 64, 67, 0.15);\n",
              "      fill: #174EA6;\n",
              "    }\n",
              "\n",
              "    [theme=dark] .colab-df-convert {\n",
              "      background-color: #3B4455;\n",
              "      fill: #D2E3FC;\n",
              "    }\n",
              "\n",
              "    [theme=dark] .colab-df-convert:hover {\n",
              "      background-color: #434B5C;\n",
              "      box-shadow: 0px 1px 3px 1px rgba(0, 0, 0, 0.15);\n",
              "      filter: drop-shadow(0px 1px 2px rgba(0, 0, 0, 0.3));\n",
              "      fill: #FFFFFF;\n",
              "    }\n",
              "  </style>\n",
              "\n",
              "      <script>\n",
              "        const buttonEl =\n",
              "          document.querySelector('#df-18697a25-8e90-4d6e-8046-c8578cd44194 button.colab-df-convert');\n",
              "        buttonEl.style.display =\n",
              "          google.colab.kernel.accessAllowed ? 'block' : 'none';\n",
              "\n",
              "        async function convertToInteractive(key) {\n",
              "          const element = document.querySelector('#df-18697a25-8e90-4d6e-8046-c8578cd44194');\n",
              "          const dataTable =\n",
              "            await google.colab.kernel.invokeFunction('convertToInteractive',\n",
              "                                                     [key], {});\n",
              "          if (!dataTable) return;\n",
              "\n",
              "          const docLinkHtml = 'Like what you see? Visit the ' +\n",
              "            '<a target=\"_blank\" href=https://colab.research.google.com/notebooks/data_table.ipynb>data table notebook</a>'\n",
              "            + ' to learn more about interactive tables.';\n",
              "          element.innerHTML = '';\n",
              "          dataTable['output_type'] = 'display_data';\n",
              "          await google.colab.output.renderOutput(dataTable, element);\n",
              "          const docLink = document.createElement('div');\n",
              "          docLink.innerHTML = docLinkHtml;\n",
              "          element.appendChild(docLink);\n",
              "        }\n",
              "      </script>\n",
              "    </div>\n",
              "  </div>\n",
              "  "
            ]
          },
          "metadata": {},
          "execution_count": 13
        }
      ]
    },
    {
      "cell_type": "code",
      "source": [
        "from google.colab import drive\n",
        "drive.mount('/content/gdrive')"
      ],
      "metadata": {
        "colab": {
          "base_uri": "https://localhost:8080/"
        },
        "id": "4Yr8mkWakzt3",
        "outputId": "851754be-065c-4cf0-82a8-b04f575b861b"
      },
      "execution_count": null,
      "outputs": [
        {
          "output_type": "stream",
          "name": "stdout",
          "text": [
            "Mounted at /content/gdrive\n"
          ]
        }
      ]
    },
    {
      "cell_type": "code",
      "source": [
        "!ls"
      ],
      "metadata": {
        "colab": {
          "base_uri": "https://localhost:8080/"
        },
        "id": "8t_j-LVVlRIy",
        "outputId": "04df2a24-ca1a-46d5-a494-d851b88dfabc"
      },
      "execution_count": null,
      "outputs": [
        {
          "output_type": "stream",
          "name": "stdout",
          "text": [
            "Advertising.csv  gdrive  sample_data\n"
          ]
        }
      ]
    },
    {
      "cell_type": "code",
      "source": [
        "!ls gdrive"
      ],
      "metadata": {
        "colab": {
          "base_uri": "https://localhost:8080/"
        },
        "id": "OBFXpshzlWHU",
        "outputId": "3483b20d-60b5-4426-8cb4-fa65a9c99e78"
      },
      "execution_count": null,
      "outputs": [
        {
          "output_type": "stream",
          "name": "stdout",
          "text": [
            "MyDrive\n"
          ]
        }
      ]
    },
    {
      "cell_type": "code",
      "source": [
        "!ls '/content/gdrive/MyDrive'"
      ],
      "metadata": {
        "colab": {
          "base_uri": "https://localhost:8080/"
        },
        "id": "xwuBieVtlfgg",
        "outputId": "13f1fa4f-5a6a-45ff-fb5e-c4e46b4355df"
      },
      "execution_count": null,
      "outputs": [
        {
          "output_type": "stream",
          "name": "stdout",
          "text": [
            " 200-Puzzles-and-their-solutions-with-explainations.pdf\n",
            " 2022\n",
            " ADA1.gdoc\n",
            " AdvA3\n",
            "'Advanced project '\n",
            "'adv proj'\n",
            "'ansokan (1).pdf'\n",
            "'Applied mech'\n",
            " appmech.pdf\n",
            "'Assignment 1.pdf'\n",
            " Assignment_2_sadman_ahmed.pdf\n",
            " Assignment3.pdf\n",
            "'Ch1-2&6-15.pdf'\n",
            "'Colab Notebooks'\n",
            " Coupled.PNG\n",
            " decoupled2v.PNG\n",
            " decoupled5v.PNG\n",
            " decoupledAltered.PNG\n",
            " deep.ipynb\n",
            "'deep learning'\n",
            "'Document from Sadman Ovi.pdf'\n",
            "'EEA303 Advanced Digital Control Systems 191105.pdf'\n",
            " ejbourge.vcf\n",
            "'Electrical engineering is a fascinating field.docx'\n",
            " eso\n",
            "'Ethics Chapter 1-5.pdf'\n",
            " ethics.gdoc\n",
            " french.gdoc\n",
            " full.docx\n",
            "'Gas sensor Q5 (1).gdoc'\n",
            "'Gas sensor Q5.gdoc'\n",
            "'Gmail - I-20 sent out - L20487201.pdf'\n",
            " grammar-focus.pdf\n",
            "'How to get started with Drive.pdf'\n",
            " I901_payment_confirmation_08292019.PDF\n",
            "'id and pass.gdoc'\n",
            "'Interview '\n",
            "'Lab B'\n",
            "'Letter 2.pdf'\n",
            "'licence3 (1).gdoc'\n",
            "'licence3 (2).gdoc'\n",
            " licence3.gdoc\n",
            " lingo\n",
            " lor\n",
            " MBA.gdoc\n",
            " Microphone-data.gdoc\n",
            "'my-visa-photo - Copy.jpg'\n",
            "'New Microsoft Office Word Document.docx'\n",
            "'Nonimmigrant Visa - Print Application ID.pdf'\n",
            " notes\n",
            " notes.gdoc\n",
            " pass.gdoc\n",
            " pdf\n",
            " phill\n",
            " PI2.PNG\n",
            " PI.PNG\n",
            "'Rabiul sir (2).docx'\n",
            " resume.pdf\n",
            "'Review (1).gdoc'\n",
            " Review.docx\n",
            " Review.gdoc\n",
            " RF\n",
            " robot.gdoc\n",
            " scan\n",
            " self\n",
            " Sharer.pw\n",
            " signature.jpg\n",
            "'sin(A + B) = sin(A).gdoc'\n",
            "'sop.edited (1).docx'\n",
            " Ssp\n",
            " sspdec.pdf.pdf\n",
            " svk\n",
            " swe\n",
            " Thermistor-data.gdoc\n",
            "'Thusitha_Indunil_Dissanayaka_Literature_Study(1).pdf'\n",
            "'Time Report -Sadman Ahmed week 47.xlsx'\n",
            " TU_Ilmenau_MSCSP_intake.pdf\n",
            " umo.PNG\n",
            "'Untitled document (1).gdoc'\n",
            "'Untitled document (2).gdoc'\n",
            "'Untitled document (3).gdoc'\n",
            "'Untitled document (4).gdoc'\n",
            "'Untitled document.gdoc'\n",
            " US_Varsity_List_for_Low_CGPA_Holder.xlsx\n",
            "'Wireless Sensor Network.docx'\n",
            " YuuDrive\n"
          ]
        }
      ]
    }
  ]
}